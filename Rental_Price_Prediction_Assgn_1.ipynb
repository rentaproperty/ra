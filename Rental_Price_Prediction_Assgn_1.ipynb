{
 "cells": [
  {
   "cell_type": "markdown",
   "id": "3ba3eab8-33fb-4b2c-8a10-d8132e0ef613",
   "metadata": {},
   "source": [
    "# Emerging AI Technology - Group 8\n",
    "- Sherif Olanrewaju\n",
    "- Blair Caron\n",
    "- Jun Ye\n",
    "- Harsh Patel\n",
    "- Kelvin Krisna de Rodrigues Silva"
   ]
  },
  {
   "cell_type": "markdown",
   "id": "28197393-2cc1-49c1-9ee6-e7f805fbfdc4",
   "metadata": {},
   "source": [
    "## Problem Statement:\n",
    "### Issue/Context:\n",
    "- **Affordability Problem:** The rental market is demanding too much money, making it difficult for people to find affordable living options.\n",
    "- **Financial Literacy:** Many people do not understand how much income they need to sustain living costs, which contributes to affordability issues.\n",
    "- **How It Happens:** High rental costs coupled with a lack of financial planning lead individual to overspend.\n",
    "- **Why it Happens:** Since having a home is a basic need for rest and recovery, fatigue and stress can cause overspending, leading to further financial strain and associated stress-realted issues.\n",
    "\n",
    "### Relevance & Proposed Solution:\n",
    "- **Purpose:**\n",
    "    - Improve financial literacy and empower individuals to better understand and manage housing affordability.\n",
    "    - Assist people in making informed choices when shopping for rental units.\n",
    "- **Vision:**\n",
    "    - Develop a comprehensive dashboard with the following features:\n",
    "        - Scrapes data from multiple data sources.\n",
    "        - Incorporates a chatbot for interactive guidance.\n",
    "        - Uses artificial intelligence and machine learning for predictive analytics and forecasting to offer actionable insights for clients.\n",
    "- **Scope:**\n",
    "    - **Data Sourcing:** Collect data from relevant and reliable sources.\n",
    "    - **Dashboard Design:** Develop the interface using frameworks such as Streamlit or Plotly Dash\n",
    "    - **Large Language Model training:** Trian and implement an LLM model for a chat bot to interact with users and provide personalised recommendations."
   ]
  },
  {
   "cell_type": "markdown",
   "id": "cda3468d-2396-401c-80f6-b026b6e8102f",
   "metadata": {},
   "source": [
    "## Machine Learning Prediction and Outcomes:\n",
    "### Research Paper Insights:\n",
    "[comment]: <> (Identify and discuss any relevant research papers that have addressed similar issues of affordability and financial literacy.)\n",
    "- **Predictions and Algorithms**:\n",
    "    - [comment]: <> (What predictions did these research papers offer regarding rental market trends?)\n",
    "    - [comment]: <> (Which algorithms were used for these predictions and why were they chosen?)\n",
    "\n",
    "### Alignment with Your Hypothesis:\n",
    "    - [comment]: <> (Explain how the findings from the research papers have shaped your hypothesis.)\n",
    "    - [comment]: <> (Describe any similarities or differences in the approach compared to the existing literature.)\n",
    "\n",
    "### Expected Outcomes:\n",
    "- [comment]: <> (Discuss anticipated outcomes if a similar machine learning model (e.g., for predictive analytics) is applied to your problem domain.)"
   ]
  },
  {
   "cell_type": "markdown",
   "id": "7a1209cb-72a9-404c-afa2-f5b54390736a",
   "metadata": {},
   "source": [
    "## Machine Learning Solutions:\n",
    "### Overview:\n",
    "- The solution is centered around a dashboard that not only visualizes affordability data but also interacts with users through a generative chatbot and utilizes predictive analytics.\n",
    "\n",
    "### Proposed Algorithm & Rationale:\n",
    "- The machine learning model best suited for predictions are the regression types. The solution will be focusing initially on\n",
    "    1. Linear Regression\n",
    "    2. Random Forest Regression\n",
    "- These models are well tested on regression problems, with lots of research papers on price modeling e.g. the California Housing Prices.\n",
    "- Exploratory analysis will be done with other models like Ensemble methods due to the nature and variety of datasets that will be used in the solution.\n",
    "- Finally, the generative chatbot will employ an opensourced LLM models like DeepSeek or Mistral. Prompt Engineering of the model to finetune it to the predictive analytics and real estate domain will be incorporated.\n",
    " \n",
    "### Expected Results:\n",
    "- The solution should enable consumers to predict fair market prices for rental properties based on various factors. Also, renters financial literacy will be greatly improved based on personal recommendations.\n",
    "\n",
    "### Automation/Orchestration Plans:\n",
    "- Data collection and scraping from sources like StatsCan, Realtor.ca. Tools like python Request library and Firecrawl will be used to scrape data\n",
    "- Build an initial dashboard with tools like Streamlit for proof of concept that will automate update on data inferred using ML models and database tables populated with scraped data.\n",
    "- Create an MLOps pipeline that will automatically train, validate, test, and deploy LLM models for the chatbot.\n",
    "\n",
    "### Implementation Scope:\n",
    "- **Data Sourcing:** Gather data from reputable API sources - StatsCan, Open Canada, CHMC (Canada Mortgage and Housing Corporation), Realtor.ca\n",
    "- **Dashboard Design:** Utilise tools like Streamlit or Plotly Dash.\n",
    "- **LLM Training:** Implement a natural language processing (NLP) system based on Generative Pre-trained Transformer (GPT) model."
   ]
  },
  {
   "cell_type": "markdown",
   "id": "f671b148-b4ae-4841-b4f3-a2e54f94d2f4",
   "metadata": {},
   "source": [
    "## Citations:\n",
    "- Statistics Canada. (n.d.). _Data science and the data decision network_.<br>\n",
    "  [https://www.statcan.gc.ca/en/data-science/network/data-decision](https://www.statcan.gc.ca/en/data-science/network/data-decision)\n",
    "- Equiton. (2022). _AI-driven insights into key factors influencing Canada's rental market_.<br>\n",
    "  [https://equiton.com/wp-content/uploads/2022/09/AI-Driven-Insights-into-Key-Factors-Influencing-Canadas-Rental-Market.pdf](https://equiton.com/wp-content/uploads/2022/09/AI-Driven-Insights-into-Key-Factors-Influencing-Canadas-Rental-Market.pdf)\n",
    "- Chanon, S. (n.d.). _Predicting Calgary rent prices using regression analysis_ [Blog post]. _Medium_.<br>\n",
    "  [https://sum-chanon.medium.com/predicting-calgary-rent-prices-using-regression-analysis-d99254de3a9d](https://sum-chanon.medium.com/predicting-calgary-rent-prices-using-regression-analysis-d99254de3a9d)\n",
    "- Francis-Calingo. (n.d.). _Canadian rental prices and immigration ML predictive model_ [Source code]. _GitHub_.<br>\n",
    "  [https://github.com/Francis-Calingo/Canadian-Rental-Prices-and-Immigration-ML-Predictive-Model](https://github.com/Francis-Calingo/Canadian-Rental-Prices-and-Immigration-ML-Predictive-Model)"
   ]
  }
 ],
 "metadata": {
  "kernelspec": {
   "display_name": "",
   "name": ""
  },
  "language_info": {
   "name": ""
  }
 },
 "nbformat": 4,
 "nbformat_minor": 5
}
