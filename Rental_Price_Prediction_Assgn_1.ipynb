{
 "cells": [
  {
   "cell_type": "markdown",
   "id": "3ba3eab8-33fb-4b2c-8a10-d8132e0ef613",
   "metadata": {},
   "source": [
    "# Emerging AI Technology - Group 8\n",
    "- Sherif Olanrewaju\n",
    "- Blair Caron\n",
    "- Jun Ye\n",
    "- Harsh Patel\n",
    "- Kelvin Krisna de Rodrigues Silva"
   ]
  },
  {
   "cell_type": "markdown",
   "id": "28197393-2cc1-49c1-9ee6-e7f805fbfdc4",
   "metadata": {},
   "source": [
    "## Problem Statement:\n",
    "### Issue/Context:\n",
    "- **Affordability Problem:** The rental market is demanding too much money, making it difficult for people to find affordable living options.\n",
    "- **Financial Literacy:** Many people do not understand how much income they need to sustain living costs, which contributes to affordability issues.\n",
    "- **How It Happens:** High rental costs coupled with a lack of financial planning lead individual to overspend.\n",
    "- **Why it Happens:** Since having a home is a basic need for rest and recovery, fatigue and stress can cause overspending, leading to further financial strain and associated stress-realted issues.\n",
    "\n",
    "### Relevance & Proposed Solution:\n",
    "- **Purpose:**\n",
    "    - Improve financial literacy and empower individuals to better understand and manage housing affordability.\n",
    "    - Assist people in making informed choices when shopping for rental units.\n",
    "- **Vision:**\n",
    "    - Develop a comprehensive dashboard with the following features:\n",
    "        - Scrapes data from multiple data sources.\n",
    "        - Incorporates a chatbot for interactive guidance.\n",
    "        - Uses artificial intelligence and machine learning for predictive analytics and forecasting to offer actionable insights for clients.\n",
    "- **Scope:**\n",
    "    - **Data Sourcing:** Collect data from relevant and reliable sources.\n",
    "    - **Dashboard Design:** Develop the interface using frameworks such as Streamlit or Plotly Dash\n",
    "    - **Large Language Model training:** Trian and implement an LLM model for a chat bot to interact with users and provide personalised recommendations."
   ]
  },
  {
   "cell_type": "markdown",
   "id": "cda3468d-2396-401c-80f6-b026b6e8102f",
   "metadata": {},
   "source": [
    "## Machine Learning Prediction and Outcomes:\n",
    "### Research Paper Insights:\n",
    "[comment]: <> (Identify and discuss any relevant research papers that have addressed similar issues of affordability and financial literacy.)\n",
    "- **Predictions and Algorithms**:\n",
    "    - [comment]: <> (What predictions did these research papers offer regarding rental market trends?)\n",
    "    - [comment]: <> (Which algorithms were used for these predictions and why were they chosen?)\n",
    "\n",
    "### Alignment with Your Hypothesis:\n",
    "    - [comment]: <> (Explain how the findings from the research papers have shaped your hypothesis.)\n",
    "    - [comment]: <> (Describe any similarities or differences in the approach compared to the existing literature.)\n",
    "\n",
    "### Expected Outcomes:\n",
    "- [comment]: <> (Discuss anticipated outcomes if a similar machine learning model (e.g., for predictive analytics) is applied to your problem domain.)"
   ]
  },
  {
   "cell_type": "markdown",
   "id": "7a1209cb-72a9-404c-afa2-f5b54390736a",
   "metadata": {},
   "source": [
    "## Machine Learning Solutions:\n",
    "### Overview:\n",
    "- TODO\n",
    "\n",
    "### Proposed Algorithm & Rationale:\n",
    "- TODO\n",
    "\n",
    "### Expected Results:\n",
    "- TODO\n",
    "\n",
    "### Automation/Orchestration Plans:\n",
    "- TODO\n",
    "\n",
    "### Implementation Scope:\n",
    "- **Data Sourcing:** Gather data from reputable API sources - StatsCan, Open Canada, CHMC (Canada Mortgage and Housing Corporation), Realtor.ca\n",
    "- **Dashboard Design:** Utilise tools like Streamlit or Plotly Dash.\n",
    "- **LLM Training:** Implement a natural language processing (NLP) system based on Generative Pre-trained Transformer (GPT) model."
   ]
  },
  {
   "cell_type": "markdown",
   "id": "f671b148-b4ae-4841-b4f3-a2e54f94d2f4",
   "metadata": {},
   "source": [
    "## Citations:\n",
    "- TODO"
   ]
  },
  {
   "cell_type": "code",
   "execution_count": null,
   "id": "bca45d1b-d80d-44f7-9eea-f5f4e3caa024",
   "metadata": {},
   "outputs": [],
   "source": []
  }
 ],
 "metadata": {
  "kernelspec": {
   "display_name": "",
   "name": ""
  },
  "language_info": {
   "name": ""
  }
 },
 "nbformat": 4,
 "nbformat_minor": 5
}
